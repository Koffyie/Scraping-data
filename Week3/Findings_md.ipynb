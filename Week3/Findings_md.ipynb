{
  "nbformat": 4,
  "nbformat_minor": 0,
  "metadata": {
    "colab": {
      "provenance": [],
      "authorship_tag": "ABX9TyNvKa3lc1Iu10CEzFWQ9bBg",
      "include_colab_link": true
    },
    "kernelspec": {
      "name": "python3",
      "display_name": "Python 3"
    },
    "language_info": {
      "name": "python"
    }
  },
  "cells": [
    {
      "cell_type": "markdown",
      "metadata": {
        "id": "view-in-github",
        "colab_type": "text"
      },
      "source": [
        "<a href=\"https://colab.research.google.com/github/Koffyie/Scraping-data/blob/main/Week3/Findings_md.ipynb\" target=\"_parent\"><img src=\"https://colab.research.google.com/assets/colab-badge.svg\" alt=\"Open In Colab\"/></a>"
      ]
    },
    {
      "cell_type": "markdown",
      "source": [
        "# Week 3: Exploratory Data Analysis (EDA) – List Of Music Tours by Women  \n",
        "\n",
        "## Dataset\n",
        "I used a public dataset of the **Highest Grossing Music Tours by Women**, which I deliberately chose because it was messy (“dirty data”) and required cleaning. This gave me hands-on practice with real-world data issues.  \n",
        "\n",
        "## Cleaning\n",
        "- Removed unnecessary characters and formatting issues.  \n",
        "- Handled duplicate artists (some appeared multiple times).  \n",
        "- Converted columns like *Gross* and *Shows* into proper numeric formats.  \n",
        "\n",
        "## Explorations & Visualizations\n",
        "- **Top Artists by Gross Revenue** – Taylor Swift emerged as the queen 👑 (forever a Swiftie!).  \n",
        "- **Artists with the Highest Number of Shows** – revealed consistency vs. impact strategies.  \n",
        "- **Touring Years Analysis** – trends across decades.  \n",
        "- **Correlation Insights** – e.g., *Actual Gross* and *Adjusted Gross* were highly correlated, while *Number of Shows* had a **negative correlation** with *Average Gross*. This suggests that fewer shows often bring in higher per-show earnings.  \n",
        "\n",
        "## Reflections\n",
        "Data cleaning really reminded me why it’s called the most time-consuming part of Data Science! But after cleaning, the dataset revealed fun and meaningful patterns.  \n",
        "\n"
      ],
      "metadata": {
        "id": "E8MAhZTtLWNO"
      }
    }
  ]
}